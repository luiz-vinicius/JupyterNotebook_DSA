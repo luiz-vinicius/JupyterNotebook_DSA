{
 "cells": [
  {
   "cell_type": "code",
   "execution_count": 1,
   "id": "d09d3f58",
   "metadata": {},
   "outputs": [],
   "source": [
    "a = 2"
   ]
  },
  {
   "cell_type": "code",
   "execution_count": 2,
   "id": "486a2af1",
   "metadata": {},
   "outputs": [
    {
     "data": {
      "text/plain": [
       "2"
      ]
     },
     "execution_count": 2,
     "metadata": {},
     "output_type": "execute_result"
    }
   ],
   "source": [
    "a"
   ]
  },
  {
   "cell_type": "code",
   "execution_count": 3,
   "id": "b41574bd",
   "metadata": {},
   "outputs": [
    {
     "name": "stdout",
     "output_type": "stream",
     "text": [
      "2\n"
     ]
    }
   ],
   "source": [
    "print(a)"
   ]
  },
  {
   "cell_type": "code",
   "execution_count": 4,
   "id": "cd8482dc",
   "metadata": {},
   "outputs": [
    {
     "name": "stdout",
     "output_type": "stream",
     "text": [
      "3\n"
     ]
    }
   ],
   "source": [
    "b = input()"
   ]
  },
  {
   "cell_type": "code",
   "execution_count": 5,
   "id": "e747a7c6",
   "metadata": {},
   "outputs": [
    {
     "name": "stdout",
     "output_type": "stream",
     "text": [
      "3\n"
     ]
    }
   ],
   "source": [
    "print(b)"
   ]
  },
  {
   "cell_type": "code",
   "execution_count": 6,
   "id": "0dc5f353",
   "metadata": {},
   "outputs": [
    {
     "data": {
      "text/plain": [
       "'3'"
      ]
     },
     "execution_count": 6,
     "metadata": {},
     "output_type": "execute_result"
    }
   ],
   "source": [
    "b"
   ]
  },
  {
   "cell_type": "code",
   "execution_count": 7,
   "id": "89fb555a",
   "metadata": {},
   "outputs": [],
   "source": [
    "var_1 = 2"
   ]
  },
  {
   "cell_type": "code",
   "execution_count": 8,
   "id": "38c7f50d",
   "metadata": {},
   "outputs": [
    {
     "data": {
      "text/plain": [
       "2"
      ]
     },
     "execution_count": 8,
     "metadata": {},
     "output_type": "execute_result"
    }
   ],
   "source": [
    "var_1"
   ]
  },
  {
   "cell_type": "code",
   "execution_count": 9,
   "id": "36f39c6b",
   "metadata": {},
   "outputs": [
    {
     "ename": "SyntaxError",
     "evalue": "invalid decimal literal (Temp/ipykernel_7876/2025155622.py, line 2)",
     "output_type": "error",
     "traceback": [
      "\u001b[1;36m  File \u001b[1;32m\"C:\\Users\\ferna\\AppData\\Local\\Temp/ipykernel_7876/2025155622.py\"\u001b[1;36m, line \u001b[1;32m2\u001b[0m\n\u001b[1;33m    1_var = 1\u001b[0m\n\u001b[1;37m     ^\u001b[0m\n\u001b[1;31mSyntaxError\u001b[0m\u001b[1;31m:\u001b[0m invalid decimal literal\n"
     ]
    }
   ],
   "source": [
    "#Não pode haver número na frente da variável\n",
    "1_var = 1"
   ]
  },
  {
   "cell_type": "markdown",
   "id": "903e152e",
   "metadata": {},
   "source": [
    "### Declarações Multíplas"
   ]
  },
  {
   "cell_type": "code",
   "execution_count": 10,
   "id": "dafd9d16",
   "metadata": {},
   "outputs": [],
   "source": [
    "fruta1, fruta2, fruta3 = 'Banana', 'Laranja','Melancia'"
   ]
  },
  {
   "cell_type": "code",
   "execution_count": 15,
   "id": "fc78bef9",
   "metadata": {},
   "outputs": [
    {
     "name": "stdout",
     "output_type": "stream",
     "text": [
      "Banana Laranja Melancia\n"
     ]
    }
   ],
   "source": [
    "print(fruta1, fruta2, fruta3)"
   ]
  },
  {
   "cell_type": "markdown",
   "id": "0367335d",
   "metadata": {},
   "source": [
    "### Variáveis com Operadores"
   ]
  },
  {
   "cell_type": "code",
   "execution_count": 16,
   "id": "e655bf37",
   "metadata": {},
   "outputs": [],
   "source": [
    "a = 2"
   ]
  },
  {
   "cell_type": "code",
   "execution_count": 17,
   "id": "6403835d",
   "metadata": {},
   "outputs": [],
   "source": [
    "b = 3"
   ]
  },
  {
   "cell_type": "code",
   "execution_count": 18,
   "id": "8624555d",
   "metadata": {},
   "outputs": [],
   "source": [
    "s = a * b"
   ]
  },
  {
   "cell_type": "code",
   "execution_count": 19,
   "id": "d95061f1",
   "metadata": {},
   "outputs": [
    {
     "data": {
      "text/plain": [
       "6"
      ]
     },
     "execution_count": 19,
     "metadata": {},
     "output_type": "execute_result"
    }
   ],
   "source": [
    "s"
   ]
  },
  {
   "cell_type": "code",
   "execution_count": 20,
   "id": "9d8e3bec",
   "metadata": {},
   "outputs": [],
   "source": [
    "m = a + b"
   ]
  },
  {
   "cell_type": "code",
   "execution_count": 21,
   "id": "342d53d5",
   "metadata": {},
   "outputs": [
    {
     "data": {
      "text/plain": [
       "5"
      ]
     },
     "execution_count": 21,
     "metadata": {},
     "output_type": "execute_result"
    }
   ],
   "source": [
    "m"
   ]
  },
  {
   "cell_type": "code",
   "execution_count": 22,
   "id": "fa30012c",
   "metadata": {},
   "outputs": [],
   "source": [
    "d = b/a"
   ]
  },
  {
   "cell_type": "code",
   "execution_count": 23,
   "id": "c471c039",
   "metadata": {},
   "outputs": [
    {
     "data": {
      "text/plain": [
       "1.5"
      ]
     },
     "execution_count": 23,
     "metadata": {},
     "output_type": "execute_result"
    }
   ],
   "source": [
    "d"
   ]
  },
  {
   "cell_type": "code",
   "execution_count": null,
   "id": "0f691d6c",
   "metadata": {},
   "outputs": [],
   "source": []
  }
 ],
 "metadata": {
  "kernelspec": {
   "display_name": "Python 3 (ipykernel)",
   "language": "python",
   "name": "python3"
  },
  "language_info": {
   "codemirror_mode": {
    "name": "ipython",
    "version": 3
   },
   "file_extension": ".py",
   "mimetype": "text/x-python",
   "name": "python",
   "nbconvert_exporter": "python",
   "pygments_lexer": "ipython3",
   "version": "3.9.7"
  }
 },
 "nbformat": 4,
 "nbformat_minor": 5
}
