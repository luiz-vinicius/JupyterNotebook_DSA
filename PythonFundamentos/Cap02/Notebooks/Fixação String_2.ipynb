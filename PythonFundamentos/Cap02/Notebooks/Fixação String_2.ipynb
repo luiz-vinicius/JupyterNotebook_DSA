{
 "cells": [
  {
   "cell_type": "markdown",
   "id": "a9fb0afd",
   "metadata": {},
   "source": [
    "## Fixação String 2"
   ]
  },
  {
   "cell_type": "code",
   "execution_count": 1,
   "id": "c938b359",
   "metadata": {},
   "outputs": [],
   "source": [
    "s = \"Python Iniciante\""
   ]
  },
  {
   "cell_type": "code",
   "execution_count": 2,
   "id": "17f50e03",
   "metadata": {},
   "outputs": [
    {
     "data": {
      "text/plain": [
       "'P'"
      ]
     },
     "execution_count": 2,
     "metadata": {},
     "output_type": "execute_result"
    }
   ],
   "source": [
    "# [0] traz a 1ª célula da string\n",
    "s[0]"
   ]
  },
  {
   "cell_type": "code",
   "execution_count": 3,
   "id": "990b5baf",
   "metadata": {},
   "outputs": [
    {
     "data": {
      "text/plain": [
       "'e'"
      ]
     },
     "execution_count": 3,
     "metadata": {},
     "output_type": "execute_result"
    }
   ],
   "source": [
    "#traz a última célula\n",
    "s[-1]"
   ]
  },
  {
   "cell_type": "code",
   "execution_count": 4,
   "id": "b1746857",
   "metadata": {},
   "outputs": [
    {
     "data": {
      "text/plain": [
       "'Pyth'"
      ]
     },
     "execution_count": 4,
     "metadata": {},
     "output_type": "execute_result"
    }
   ],
   "source": [
    "# ele vai até a 4ª célula\n",
    "s[:4]"
   ]
  },
  {
   "cell_type": "code",
   "execution_count": 5,
   "id": "9b682ae7",
   "metadata": {},
   "outputs": [
    {
     "name": "stdout",
     "output_type": "stream",
     "text": [
      "Python Iniciante\n"
     ]
    }
   ],
   "source": [
    "print(s)"
   ]
  },
  {
   "cell_type": "markdown",
   "id": "dc15c22c",
   "metadata": {},
   "source": [
    "### Utilizando o quebra de linha \\n"
   ]
  },
  {
   "cell_type": "code",
   "execution_count": 6,
   "id": "42096110",
   "metadata": {},
   "outputs": [
    {
     "name": "stdout",
     "output_type": "stream",
     "text": [
      "Utilizando\n",
      "Quebra\n",
      "De\n",
      "Linha\n"
     ]
    }
   ],
   "source": [
    "print(\"Utilizando\\nQuebra\\nDe\\nLinha\")"
   ]
  },
  {
   "cell_type": "markdown",
   "id": "5c232bcb",
   "metadata": {},
   "source": [
    "### Utilizando o [::] para realizar o fatiamento"
   ]
  },
  {
   "cell_type": "code",
   "execution_count": 7,
   "id": "5f0294bc",
   "metadata": {},
   "outputs": [
    {
     "data": {
      "text/plain": [
       "'Python Iniciante'"
      ]
     },
     "execution_count": 7,
     "metadata": {},
     "output_type": "execute_result"
    }
   ],
   "source": [
    "#Vai pulando de 1 em 1\n",
    "s[::1]"
   ]
  },
  {
   "cell_type": "code",
   "execution_count": 8,
   "id": "1fe07b59",
   "metadata": {},
   "outputs": [
    {
     "data": {
      "text/plain": [
       "'Pto ncat'"
      ]
     },
     "execution_count": 8,
     "metadata": {},
     "output_type": "execute_result"
    }
   ],
   "source": [
    "#Vai pulando de 2 em 2\n",
    "s[::2]"
   ]
  },
  {
   "cell_type": "code",
   "execution_count": 9,
   "id": "2badd2d7",
   "metadata": {},
   "outputs": [
    {
     "data": {
      "text/plain": [
       "'etnaicinI nohtyP'"
      ]
     },
     "execution_count": 9,
     "metadata": {},
     "output_type": "execute_result"
    }
   ],
   "source": [
    "#De tras para frente\n",
    "s[::-1]"
   ]
  },
  {
   "cell_type": "code",
   "execution_count": 12,
   "id": "23f838f6",
   "metadata": {},
   "outputs": [],
   "source": [
    "s = s + \" otimo para aprender\""
   ]
  },
  {
   "cell_type": "code",
   "execution_count": 13,
   "id": "e74f56c6",
   "metadata": {},
   "outputs": [
    {
     "data": {
      "text/plain": [
       "'Python Iniciante otimo para aprender'"
      ]
     },
     "execution_count": 13,
     "metadata": {},
     "output_type": "execute_result"
    }
   ],
   "source": [
    "s"
   ]
  },
  {
   "cell_type": "markdown",
   "id": "39216c39",
   "metadata": {},
   "source": [
    "### Funções Built-in"
   ]
  },
  {
   "cell_type": "code",
   "execution_count": 14,
   "id": "3adeb992",
   "metadata": {},
   "outputs": [
    {
     "data": {
      "text/plain": [
       "'PYTHON INICIANTE OTIMO PARA APRENDER'"
      ]
     },
     "execution_count": 14,
     "metadata": {},
     "output_type": "execute_result"
    }
   ],
   "source": [
    "#Tudo maiúsculo\n",
    "s.upper()"
   ]
  },
  {
   "cell_type": "code",
   "execution_count": 15,
   "id": "cfdc5925",
   "metadata": {},
   "outputs": [
    {
     "data": {
      "text/plain": [
       "'python iniciante otimo para aprender'"
      ]
     },
     "execution_count": 15,
     "metadata": {},
     "output_type": "execute_result"
    }
   ],
   "source": [
    "#Minúsculo\n",
    "s.lower()"
   ]
  },
  {
   "cell_type": "code",
   "execution_count": 16,
   "id": "994d5178",
   "metadata": {},
   "outputs": [
    {
     "data": {
      "text/plain": [
       "['Python', 'Iniciante', 'otimo', 'para', 'aprender']"
      ]
     },
     "execution_count": 16,
     "metadata": {},
     "output_type": "execute_result"
    }
   ],
   "source": [
    "#Faz a separação da string onde tem o espaço\n",
    "s.split()"
   ]
  },
  {
   "cell_type": "code",
   "execution_count": 18,
   "id": "54ea4664",
   "metadata": {},
   "outputs": [
    {
     "data": {
      "text/plain": [
       "'Python'"
      ]
     },
     "execution_count": 18,
     "metadata": {},
     "output_type": "execute_result"
    }
   ],
   "source": [
    "# t recebeu toda as partes que foram separadas pelo split\n",
    "t = s.split()\n",
    "t[0]"
   ]
  },
  {
   "cell_type": "code",
   "execution_count": 19,
   "id": "e99bddaf",
   "metadata": {},
   "outputs": [
    {
     "data": {
      "text/plain": [
       "['Python', 'Iniciante', 'otimo', 'para', 'aprender']"
      ]
     },
     "execution_count": 19,
     "metadata": {},
     "output_type": "execute_result"
    }
   ],
   "source": [
    "t"
   ]
  },
  {
   "cell_type": "code",
   "execution_count": 20,
   "id": "03cb34aa",
   "metadata": {},
   "outputs": [
    {
     "data": {
      "text/plain": [
       "['Python Iniciante ', ' para aprender']"
      ]
     },
     "execution_count": 20,
     "metadata": {},
     "output_type": "execute_result"
    }
   ],
   "source": [
    "#também funciona com caracteres ou palavras\n",
    "s.split('otimo')"
   ]
  },
  {
   "cell_type": "markdown",
   "id": "7ceb2be5",
   "metadata": {},
   "source": [
    "### Funções Strings"
   ]
  },
  {
   "cell_type": "code",
   "execution_count": 21,
   "id": "4bf3ecd1",
   "metadata": {},
   "outputs": [
    {
     "data": {
      "text/plain": [
       "'Python iniciante otimo para aprender'"
      ]
     },
     "execution_count": 21,
     "metadata": {},
     "output_type": "execute_result"
    }
   ],
   "source": [
    "#Deixa somente a palavra inicial com letra maiúscula\n",
    "s.capitalize()"
   ]
  },
  {
   "cell_type": "code",
   "execution_count": 22,
   "id": "86f4fe3b",
   "metadata": {},
   "outputs": [
    {
     "data": {
      "text/plain": [
       "3"
      ]
     },
     "execution_count": 22,
     "metadata": {},
     "output_type": "execute_result"
    }
   ],
   "source": [
    "#Vai contar quantos 'i' existe na string\n",
    "s.count('i')"
   ]
  },
  {
   "cell_type": "code",
   "execution_count": 23,
   "id": "f209b478",
   "metadata": {},
   "outputs": [
    {
     "data": {
      "text/plain": [
       "7"
      ]
     },
     "execution_count": 23,
     "metadata": {},
     "output_type": "execute_result"
    }
   ],
   "source": [
    "#Mostra o indice onde está\n",
    "s.find('I')"
   ]
  },
  {
   "cell_type": "code",
   "execution_count": 24,
   "id": "daf2ff25",
   "metadata": {},
   "outputs": [
    {
     "data": {
      "text/plain": [
       "'I'"
      ]
     },
     "execution_count": 24,
     "metadata": {},
     "output_type": "execute_result"
    }
   ],
   "source": [
    "s[7]"
   ]
  },
  {
   "cell_type": "code",
   "execution_count": 25,
   "id": "a1207d54",
   "metadata": {},
   "outputs": [
    {
     "data": {
      "text/plain": [
       "36"
      ]
     },
     "execution_count": 25,
     "metadata": {},
     "output_type": "execute_result"
    }
   ],
   "source": [
    "#Quantidade de caracteres na string, também conta com espaço\n",
    "len(s)"
   ]
  },
  {
   "cell_type": "code",
   "execution_count": 26,
   "id": "0d5babbb",
   "metadata": {},
   "outputs": [
    {
     "data": {
      "text/plain": [
       "'Python Básico otimo para aprender'"
      ]
     },
     "execution_count": 26,
     "metadata": {},
     "output_type": "execute_result"
    }
   ],
   "source": [
    "#Trocou os caracteres da String\n",
    "s.replace('Iniciante','Básico')"
   ]
  },
  {
   "cell_type": "code",
   "execution_count": 27,
   "id": "6d3c3a99",
   "metadata": {},
   "outputs": [],
   "source": [
    "#Existe espaço antes e depois\n",
    "x = \"  Aqui e ali são o mesmo  \""
   ]
  },
  {
   "cell_type": "code",
   "execution_count": 29,
   "id": "2dcca39a",
   "metadata": {},
   "outputs": [],
   "source": [
    "#Retira os espaços antes e depois\n",
    "x = x.strip()"
   ]
  },
  {
   "cell_type": "code",
   "execution_count": 30,
   "id": "f3516502",
   "metadata": {},
   "outputs": [
    {
     "data": {
      "text/plain": [
       "'Aqui e ali são o mesmo'"
      ]
     },
     "execution_count": 30,
     "metadata": {},
     "output_type": "execute_result"
    }
   ],
   "source": [
    "x"
   ]
  },
  {
   "cell_type": "code",
   "execution_count": 31,
   "id": "15f0b118",
   "metadata": {},
   "outputs": [
    {
     "data": {
      "text/plain": [
       "'Aqui E Ali São O Mesmo'"
      ]
     },
     "execution_count": 31,
     "metadata": {},
     "output_type": "execute_result"
    }
   ],
   "source": [
    "#faz com que todos caracteres iniciais depois de um espaço também tenham letras maiúsculas\n",
    "x.title()"
   ]
  },
  {
   "cell_type": "code",
   "execution_count": 32,
   "id": "3a981f4e",
   "metadata": {},
   "outputs": [
    {
     "data": {
      "text/plain": [
       "False"
      ]
     },
     "execution_count": 32,
     "metadata": {},
     "output_type": "execute_result"
    }
   ],
   "source": [
    "#Verificar se os caracteres são alfanumericos\n",
    "x.isalnum()"
   ]
  },
  {
   "cell_type": "code",
   "execution_count": 33,
   "id": "a26c6c5c",
   "metadata": {},
   "outputs": [
    {
     "data": {
      "text/plain": [
       "False"
      ]
     },
     "execution_count": 33,
     "metadata": {},
     "output_type": "execute_result"
    }
   ],
   "source": [
    "#Verificar se os caracteres são letras\n",
    "x.isalpha()"
   ]
  },
  {
   "cell_type": "code",
   "execution_count": 34,
   "id": "a115da66",
   "metadata": {},
   "outputs": [],
   "source": [
    "a = 'tudo'"
   ]
  },
  {
   "cell_type": "code",
   "execution_count": 35,
   "id": "164e91aa",
   "metadata": {},
   "outputs": [
    {
     "data": {
      "text/plain": [
       "True"
      ]
     },
     "execution_count": 35,
     "metadata": {},
     "output_type": "execute_result"
    }
   ],
   "source": [
    "a.isalpha()"
   ]
  },
  {
   "cell_type": "code",
   "execution_count": 36,
   "id": "f36b0fb7",
   "metadata": {},
   "outputs": [],
   "source": [
    "b = 'tudo certo'"
   ]
  },
  {
   "cell_type": "code",
   "execution_count": 37,
   "id": "a39d9498",
   "metadata": {},
   "outputs": [
    {
     "data": {
      "text/plain": [
       "False"
      ]
     },
     "execution_count": 37,
     "metadata": {},
     "output_type": "execute_result"
    }
   ],
   "source": [
    "#Espaço faz com que der False\n",
    "b.isalpha()"
   ]
  },
  {
   "cell_type": "code",
   "execution_count": 38,
   "id": "6b854a6d",
   "metadata": {},
   "outputs": [],
   "source": [
    "c = ' '"
   ]
  },
  {
   "cell_type": "code",
   "execution_count": 39,
   "id": "9eb656f4",
   "metadata": {},
   "outputs": [
    {
     "data": {
      "text/plain": [
       "True"
      ]
     },
     "execution_count": 39,
     "metadata": {},
     "output_type": "execute_result"
    }
   ],
   "source": [
    "#Retornar True se tudo for espaço\n",
    "c.isspace()"
   ]
  },
  {
   "cell_type": "code",
   "execution_count": 40,
   "id": "8b9ab7f5",
   "metadata": {},
   "outputs": [
    {
     "data": {
      "text/plain": [
       "('Aqui e ali ', 'são', ' o mesmo')"
      ]
     },
     "execution_count": 40,
     "metadata": {},
     "output_type": "execute_result"
    }
   ],
   "source": [
    "#Diferente do Split que retira e separa, o partition ele separa as células mas não descarta\n",
    "x.partition('são')"
   ]
  },
  {
   "cell_type": "code",
   "execution_count": 41,
   "id": "4df08ac2",
   "metadata": {},
   "outputs": [
    {
     "data": {
      "text/plain": [
       "True"
      ]
     },
     "execution_count": 41,
     "metadata": {},
     "output_type": "execute_result"
    }
   ],
   "source": [
    "#Verifica se a String termina com esses caracteres\n",
    "x.endswith('mesmo')"
   ]
  },
  {
   "cell_type": "markdown",
   "id": "ae975e90",
   "metadata": {},
   "source": [
    "## Exercícios"
   ]
  },
  {
   "cell_type": "code",
   "execution_count": 2,
   "id": "e69570af",
   "metadata": {},
   "outputs": [
    {
     "name": "stdout",
     "output_type": "stream",
     "text": [
      "Digite a 1ª: Pedro\n",
      "Digite a 2ª: Pedro\n",
      "1ª: Pedro\n",
      "2ª: Pedro\n",
      "As strings possuem mesmo tamanho\n",
      "As strings possuem mesmo contéudo!\n"
     ]
    }
   ],
   "source": [
    "'''Faça um programa que leia 2 strings e informe o conteúdo delas seguido do seu comprimento. \n",
    "Informe também se as duas strings possuem o mesmo comprimento e são iguais ou diferentes\n",
    "no conteúdo.'''\n",
    "\n",
    "s1 = input('Digite a 1ª: ')\n",
    "s2 = input('Digite a 2ª: ')\n",
    "print('1ª: {}\\n2ª: {}'.format(s1,s2))\n",
    "l_s1 = len(s1)\n",
    "l_s2 = len(s2)\n",
    "if l_s1 == l_s2:\n",
    "    print('As strings possuem mesmo tamanho')\n",
    "else:\n",
    "    print('As strings NÃO possuem mesmo tamanho')\n",
    "if s1 == s2:\n",
    "    print('As strings possuem mesmo contéudo!')\n",
    "else:\n",
    "    print('As strings NÃO possuem mesmo conteúdo!')"
   ]
  },
  {
   "cell_type": "code",
   "execution_count": 3,
   "id": "a463cdd1",
   "metadata": {},
   "outputs": [
    {
     "name": "stdout",
     "output_type": "stream",
     "text": [
      "Digite o seu nome: Luiz\n",
      "ZIUL\n"
     ]
    }
   ],
   "source": [
    "'''\n",
    "Faça um programa que permita ao usuário digitar o seu nome e em seguida mostre o nome do usuário de trás para frente \n",
    "utilizando somente letras maiúsculas. Dica: lembre−se que ao informar o nome o usuário pode digitar letras maiúsculas \n",
    "ou minúsculas. '''\n",
    "nome = input('Digite o seu nome: ')\n",
    "nome = nome.upper()\n",
    "print(nome[::-1])"
   ]
  },
  {
   "cell_type": "code",
   "execution_count": null,
   "id": "a02589f9",
   "metadata": {},
   "outputs": [],
   "source": []
  }
 ],
 "metadata": {
  "kernelspec": {
   "display_name": "Python 3 (ipykernel)",
   "language": "python",
   "name": "python3"
  },
  "language_info": {
   "codemirror_mode": {
    "name": "ipython",
    "version": 3
   },
   "file_extension": ".py",
   "mimetype": "text/x-python",
   "name": "python",
   "nbconvert_exporter": "python",
   "pygments_lexer": "ipython3",
   "version": "3.9.7"
  }
 },
 "nbformat": 4,
 "nbformat_minor": 5
}
