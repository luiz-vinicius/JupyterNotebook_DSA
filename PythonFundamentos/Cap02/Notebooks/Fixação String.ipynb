{
 "cells": [
  {
   "cell_type": "markdown",
   "id": "5518db76",
   "metadata": {},
   "source": [
    "## Um pouco de indexação e fatiamento"
   ]
  },
  {
   "cell_type": "code",
   "execution_count": 1,
   "id": "bc462cb4",
   "metadata": {},
   "outputs": [],
   "source": [
    "t = \"Python Básico\""
   ]
  },
  {
   "cell_type": "code",
   "execution_count": 2,
   "id": "989fc412",
   "metadata": {},
   "outputs": [
    {
     "data": {
      "text/plain": [
       "'Python Básico'"
      ]
     },
     "execution_count": 2,
     "metadata": {},
     "output_type": "execute_result"
    }
   ],
   "source": [
    "t"
   ]
  },
  {
   "cell_type": "code",
   "execution_count": 3,
   "id": "16607599",
   "metadata": {},
   "outputs": [
    {
     "data": {
      "text/plain": [
       "'P'"
      ]
     },
     "execution_count": 3,
     "metadata": {},
     "output_type": "execute_result"
    }
   ],
   "source": [
    "t[0]"
   ]
  },
  {
   "cell_type": "code",
   "execution_count": 4,
   "id": "aeb54e09",
   "metadata": {},
   "outputs": [
    {
     "data": {
      "text/plain": [
       "'o'"
      ]
     },
     "execution_count": 4,
     "metadata": {},
     "output_type": "execute_result"
    }
   ],
   "source": [
    "#Último caracter da String\n",
    "t[-1]"
   ]
  },
  {
   "cell_type": "code",
   "execution_count": 5,
   "id": "3c094209",
   "metadata": {},
   "outputs": [
    {
     "data": {
      "text/plain": [
       "'Pyth'"
      ]
     },
     "execution_count": 5,
     "metadata": {},
     "output_type": "execute_result"
    }
   ],
   "source": [
    "#Aqui vai até o 4, pode ver que ele não é inserido.\n",
    "t[:4]"
   ]
  },
  {
   "cell_type": "code",
   "execution_count": 6,
   "id": "f01bd831",
   "metadata": {},
   "outputs": [
    {
     "data": {
      "text/plain": [
       "'Python Básic'"
      ]
     },
     "execution_count": 6,
     "metadata": {},
     "output_type": "execute_result"
    }
   ],
   "source": [
    "t[:-1]"
   ]
  },
  {
   "cell_type": "code",
   "execution_count": 7,
   "id": "772bcc6d",
   "metadata": {},
   "outputs": [
    {
     "data": {
      "text/plain": [
       "'o'"
      ]
     },
     "execution_count": 7,
     "metadata": {},
     "output_type": "execute_result"
    }
   ],
   "source": [
    "t[-1]"
   ]
  },
  {
   "cell_type": "code",
   "execution_count": 8,
   "id": "2ef5e269",
   "metadata": {},
   "outputs": [
    {
     "name": "stdout",
     "output_type": "stream",
     "text": [
      "Python Básico\n"
     ]
    }
   ],
   "source": [
    "print(t)"
   ]
  },
  {
   "cell_type": "markdown",
   "id": "3d177054",
   "metadata": {},
   "source": [
    "### Utilizando o \\n para quebrar linha do print"
   ]
  },
  {
   "cell_type": "code",
   "execution_count": 9,
   "id": "6d6e4438",
   "metadata": {},
   "outputs": [
    {
     "name": "stdout",
     "output_type": "stream",
     "text": [
      "Usarei\n",
      "O quebra\n",
      "de\n",
      "Linha\n"
     ]
    }
   ],
   "source": [
    "print(\"Usarei\\nO quebra\\nde\\nLinha\")"
   ]
  },
  {
   "cell_type": "markdown",
   "id": "7fabc93a",
   "metadata": {},
   "source": [
    "### Utlizando o [::] para fazer outro tipo de fatiamento"
   ]
  },
  {
   "cell_type": "code",
   "execution_count": 10,
   "id": "c24b6461",
   "metadata": {},
   "outputs": [
    {
     "data": {
      "text/plain": [
       "'Python Básico'"
      ]
     },
     "execution_count": 10,
     "metadata": {},
     "output_type": "execute_result"
    }
   ],
   "source": [
    "t[::1]"
   ]
  },
  {
   "cell_type": "code",
   "execution_count": 11,
   "id": "12caddb7",
   "metadata": {},
   "outputs": [
    {
     "data": {
      "text/plain": [
       "'Pto áio'"
      ]
     },
     "execution_count": 11,
     "metadata": {},
     "output_type": "execute_result"
    }
   ],
   "source": [
    "#Nesse código ele vai pulando de 2 em 2.\n",
    "t[::2]"
   ]
  },
  {
   "cell_type": "code",
   "execution_count": 12,
   "id": "6c4f4193",
   "metadata": {},
   "outputs": [
    {
     "data": {
      "text/plain": [
       "'ocisáB nohtyP'"
      ]
     },
     "execution_count": 12,
     "metadata": {},
     "output_type": "execute_result"
    }
   ],
   "source": [
    "#Nesse código ele ler de trás para frente.\n",
    "t[::-1]"
   ]
  },
  {
   "cell_type": "code",
   "execution_count": 13,
   "id": "aa6f054b",
   "metadata": {},
   "outputs": [],
   "source": [
    "t = t + \" é ótimo para iniciantes!\""
   ]
  },
  {
   "cell_type": "code",
   "execution_count": 14,
   "id": "e2ca6ca9",
   "metadata": {},
   "outputs": [
    {
     "data": {
      "text/plain": [
       "'Python Básico é ótimo para iniciantes!'"
      ]
     },
     "execution_count": 14,
     "metadata": {},
     "output_type": "execute_result"
    }
   ],
   "source": [
    "t"
   ]
  },
  {
   "cell_type": "markdown",
   "id": "156140c7",
   "metadata": {},
   "source": [
    "### Funções built-in"
   ]
  },
  {
   "cell_type": "code",
   "execution_count": 15,
   "id": "bfaa9607",
   "metadata": {},
   "outputs": [
    {
     "data": {
      "text/plain": [
       "'PYTHON BÁSICO É ÓTIMO PARA INICIANTES!'"
      ]
     },
     "execution_count": 15,
     "metadata": {},
     "output_type": "execute_result"
    }
   ],
   "source": [
    "#Tudo maiúsculo\n",
    "t.upper()"
   ]
  },
  {
   "cell_type": "code",
   "execution_count": 16,
   "id": "9d61b9e3",
   "metadata": {},
   "outputs": [
    {
     "data": {
      "text/plain": [
       "'python básico é ótimo para iniciantes!'"
      ]
     },
     "execution_count": 16,
     "metadata": {},
     "output_type": "execute_result"
    }
   ],
   "source": [
    "#Tudo minúsculo\n",
    "t.lower()"
   ]
  },
  {
   "cell_type": "code",
   "execution_count": 17,
   "id": "36bdb78f",
   "metadata": {},
   "outputs": [
    {
     "data": {
      "text/plain": [
       "['Python', 'Básico', 'é', 'ótimo', 'para', 'iniciantes!']"
      ]
     },
     "execution_count": 17,
     "metadata": {},
     "output_type": "execute_result"
    }
   ],
   "source": [
    "#Sem nada atribuído ele irá fazer a separação onde tiver espaço ' '\n",
    "t.split()"
   ]
  },
  {
   "cell_type": "code",
   "execution_count": 18,
   "id": "6e7052a8",
   "metadata": {},
   "outputs": [
    {
     "data": {
      "text/plain": [
       "['Python Básico é ', 'timo para iniciantes!']"
      ]
     },
     "execution_count": 18,
     "metadata": {},
     "output_type": "execute_result"
    }
   ],
   "source": [
    "t.split('ó')"
   ]
  },
  {
   "cell_type": "markdown",
   "id": "e3b3227f",
   "metadata": {},
   "source": [
    "### Funções Strings"
   ]
  },
  {
   "cell_type": "code",
   "execution_count": 19,
   "id": "f8e5f894",
   "metadata": {},
   "outputs": [
    {
     "data": {
      "text/plain": [
       "'Python básico é ótimo para iniciantes!'"
      ]
     },
     "execution_count": 19,
     "metadata": {},
     "output_type": "execute_result"
    }
   ],
   "source": [
    "#Deixa somente o t[0] maiúsculo\n",
    "t.capitalize()"
   ]
  },
  {
   "cell_type": "code",
   "execution_count": 20,
   "id": "f9ec96bd",
   "metadata": {},
   "outputs": [
    {
     "data": {
      "text/plain": [
       "3"
      ]
     },
     "execution_count": 20,
     "metadata": {},
     "output_type": "execute_result"
    }
   ],
   "source": [
    "#Conta a quantidade de caracteres 'o'\n",
    "t.count('o')"
   ]
  },
  {
   "cell_type": "code",
   "execution_count": 21,
   "id": "941d97e9",
   "metadata": {},
   "outputs": [
    {
     "data": {
      "text/plain": [
       "14"
      ]
     },
     "execution_count": 21,
     "metadata": {},
     "output_type": "execute_result"
    }
   ],
   "source": [
    "#Mostra o indice de onde está o caracter 'é'\n",
    "t.find('é')"
   ]
  },
  {
   "cell_type": "code",
   "execution_count": 22,
   "id": "3efa470b",
   "metadata": {},
   "outputs": [
    {
     "data": {
      "text/plain": [
       "38"
      ]
     },
     "execution_count": 22,
     "metadata": {},
     "output_type": "execute_result"
    }
   ],
   "source": [
    "#Mostra a quantidade de caracteres. o [0] conta como 1\n",
    "len(t)"
   ]
  },
  {
   "cell_type": "code",
   "execution_count": 23,
   "id": "f7a6f15b",
   "metadata": {},
   "outputs": [
    {
     "data": {
      "text/plain": [
       "37"
      ]
     },
     "execution_count": 23,
     "metadata": {},
     "output_type": "execute_result"
    }
   ],
   "source": [
    "t.find('!')"
   ]
  },
  {
   "cell_type": "code",
   "execution_count": 24,
   "id": "eab641fb",
   "metadata": {},
   "outputs": [
    {
     "data": {
      "text/plain": [
       "True"
      ]
     },
     "execution_count": 24,
     "metadata": {},
     "output_type": "execute_result"
    }
   ],
   "source": [
    "'o'in t"
   ]
  },
  {
   "cell_type": "code",
   "execution_count": 25,
   "id": "79eb5dc4",
   "metadata": {},
   "outputs": [
    {
     "data": {
      "text/plain": [
       "'Python avançado é ótimo para iniciantes!'"
      ]
     },
     "execution_count": 25,
     "metadata": {},
     "output_type": "execute_result"
    }
   ],
   "source": [
    "#Alteração de caracteres dentro da String\n",
    "t.replace(\"Básico\", \"avançado\")"
   ]
  },
  {
   "cell_type": "code",
   "execution_count": 29,
   "id": "1a709799",
   "metadata": {},
   "outputs": [],
   "source": [
    "x = \"  Antes e depois possui 2 espaços  \""
   ]
  },
  {
   "cell_type": "code",
   "execution_count": 32,
   "id": "39ddcb71",
   "metadata": {},
   "outputs": [],
   "source": [
    "#Ele retira os espaços que estiverem antes e depois\n",
    "x = x.strip()"
   ]
  },
  {
   "cell_type": "code",
   "execution_count": 33,
   "id": "a8a382fc",
   "metadata": {},
   "outputs": [
    {
     "data": {
      "text/plain": [
       "'Antes e depois possui 2 espaços'"
      ]
     },
     "execution_count": 33,
     "metadata": {},
     "output_type": "execute_result"
    }
   ],
   "source": [
    "x"
   ]
  },
  {
   "cell_type": "code",
   "execution_count": 34,
   "id": "a2c8ec80",
   "metadata": {},
   "outputs": [
    {
     "data": {
      "text/plain": [
       "'Antes E Depois Possui 2 Espaços'"
      ]
     },
     "execution_count": 34,
     "metadata": {},
     "output_type": "execute_result"
    }
   ],
   "source": [
    "#Onde tiver espaço e ter um caracter ele ficará maiúsculo\n",
    "x.title()"
   ]
  },
  {
   "cell_type": "code",
   "execution_count": 35,
   "id": "41aaa83c",
   "metadata": {},
   "outputs": [
    {
     "data": {
      "text/plain": [
       "False"
      ]
     },
     "execution_count": 35,
     "metadata": {},
     "output_type": "execute_result"
    }
   ],
   "source": [
    "#Verifica se todos os caracteres são alfanuméricos\n",
    "x.isalnum()"
   ]
  },
  {
   "cell_type": "code",
   "execution_count": 36,
   "id": "3c582680",
   "metadata": {},
   "outputs": [
    {
     "data": {
      "text/plain": [
       "False"
      ]
     },
     "execution_count": 36,
     "metadata": {},
     "output_type": "execute_result"
    }
   ],
   "source": [
    "#Verifica se todos os caracteres são letras\n",
    "x.isalpha()"
   ]
  },
  {
   "cell_type": "code",
   "execution_count": 37,
   "id": "8c22fba5",
   "metadata": {},
   "outputs": [],
   "source": [
    "a = \"zero\""
   ]
  },
  {
   "cell_type": "code",
   "execution_count": 38,
   "id": "93b9c247",
   "metadata": {},
   "outputs": [
    {
     "data": {
      "text/plain": [
       "True"
      ]
     },
     "execution_count": 38,
     "metadata": {},
     "output_type": "execute_result"
    }
   ],
   "source": [
    "a.isalpha()"
   ]
  },
  {
   "cell_type": "code",
   "execution_count": 39,
   "id": "866256a7",
   "metadata": {},
   "outputs": [
    {
     "data": {
      "text/plain": [
       "False"
      ]
     },
     "execution_count": 39,
     "metadata": {},
     "output_type": "execute_result"
    }
   ],
   "source": [
    "#Verifica se é somente espaço\n",
    "x.isspace()"
   ]
  },
  {
   "cell_type": "code",
   "execution_count": 40,
   "id": "94d1ed6c",
   "metadata": {},
   "outputs": [
    {
     "data": {
      "text/plain": [
       "('Antes e depois possui ', '2', ' espaços')"
      ]
     },
     "execution_count": 40,
     "metadata": {},
     "output_type": "execute_result"
    }
   ],
   "source": [
    "#Separador entre antes, o caracter e depois\n",
    "x.partition('2')"
   ]
  },
  {
   "cell_type": "code",
   "execution_count": 41,
   "id": "e3fe9a5e",
   "metadata": {},
   "outputs": [
    {
     "data": {
      "text/plain": [
       "True"
      ]
     },
     "execution_count": 41,
     "metadata": {},
     "output_type": "execute_result"
    }
   ],
   "source": [
    "#Verifica se a String termina no determinado string\n",
    "x.endswith('s')"
   ]
  },
  {
   "cell_type": "code",
   "execution_count": 42,
   "id": "7e08730a",
   "metadata": {},
   "outputs": [
    {
     "data": {
      "text/plain": [
       "True"
      ]
     },
     "execution_count": 42,
     "metadata": {},
     "output_type": "execute_result"
    }
   ],
   "source": [
    "x.endswith('espaços')"
   ]
  },
  {
   "cell_type": "code",
   "execution_count": null,
   "id": "643b39af",
   "metadata": {},
   "outputs": [],
   "source": []
  }
 ],
 "metadata": {
  "kernelspec": {
   "display_name": "Python 3 (ipykernel)",
   "language": "python",
   "name": "python3"
  },
  "language_info": {
   "codemirror_mode": {
    "name": "ipython",
    "version": 3
   },
   "file_extension": ".py",
   "mimetype": "text/x-python",
   "name": "python",
   "nbconvert_exporter": "python",
   "pygments_lexer": "ipython3",
   "version": "3.9.7"
  }
 },
 "nbformat": 4,
 "nbformat_minor": 5
}
