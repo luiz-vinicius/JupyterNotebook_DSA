{
 "cells": [
  {
   "cell_type": "markdown",
   "id": "cca17b89",
   "metadata": {},
   "source": [
    "## Listas"
   ]
  },
  {
   "cell_type": "code",
   "execution_count": 1,
   "id": "5cb56a98",
   "metadata": {},
   "outputs": [],
   "source": [
    "#Aqui todos são um mesmo item\n",
    "lista_a = ['ovos, banana, melancia, maçã']"
   ]
  },
  {
   "cell_type": "code",
   "execution_count": 2,
   "id": "ad89bc69",
   "metadata": {},
   "outputs": [],
   "source": [
    "#Aqui é uma lista correta\n",
    "lista_b = ['ovos', 'banana', 'melancia', 'maçã']"
   ]
  },
  {
   "cell_type": "code",
   "execution_count": 3,
   "id": "137092d1",
   "metadata": {},
   "outputs": [
    {
     "data": {
      "text/plain": [
       "['ovos, banana, melancia, maçã']"
      ]
     },
     "execution_count": 3,
     "metadata": {},
     "output_type": "execute_result"
    }
   ],
   "source": [
    "lista_a"
   ]
  },
  {
   "cell_type": "code",
   "execution_count": 4,
   "id": "5030712b",
   "metadata": {},
   "outputs": [
    {
     "data": {
      "text/plain": [
       "'ovos, banana, melancia, maçã'"
      ]
     },
     "execution_count": 4,
     "metadata": {},
     "output_type": "execute_result"
    }
   ],
   "source": [
    "#Indice 0 acaba trazendo isto\n",
    "lista_a[0]"
   ]
  },
  {
   "cell_type": "code",
   "execution_count": 5,
   "id": "237479f1",
   "metadata": {},
   "outputs": [
    {
     "data": {
      "text/plain": [
       "['ovos', 'banana', 'melancia', 'maçã']"
      ]
     },
     "execution_count": 5,
     "metadata": {},
     "output_type": "execute_result"
    }
   ],
   "source": [
    "lista_b"
   ]
  },
  {
   "cell_type": "code",
   "execution_count": 6,
   "id": "867f27aa",
   "metadata": {},
   "outputs": [
    {
     "data": {
      "text/plain": [
       "'ovos'"
      ]
     },
     "execution_count": 6,
     "metadata": {},
     "output_type": "execute_result"
    }
   ],
   "source": [
    "#Indice 0 acaba trazendo isso\n",
    "lista_b[0]"
   ]
  },
  {
   "cell_type": "code",
   "execution_count": 7,
   "id": "1b8023fa",
   "metadata": {},
   "outputs": [],
   "source": [
    "lista_c = [12, 20, 'Papel']"
   ]
  },
  {
   "cell_type": "code",
   "execution_count": 9,
   "id": "ddaaf280",
   "metadata": {},
   "outputs": [
    {
     "name": "stdout",
     "output_type": "stream",
     "text": [
      "12 20 Papel\n"
     ]
    }
   ],
   "source": [
    "print(lista_c[0], lista_c[1], lista_c[2])"
   ]
  },
  {
   "cell_type": "code",
   "execution_count": 10,
   "id": "d5868af1",
   "metadata": {},
   "outputs": [
    {
     "name": "stdout",
     "output_type": "stream",
     "text": [
      "[12, 20, 'Papel']\n"
     ]
    }
   ],
   "source": [
    "print(lista_c)"
   ]
  },
  {
   "cell_type": "code",
   "execution_count": 11,
   "id": "3da0b560",
   "metadata": {},
   "outputs": [],
   "source": [
    "lista_b[2] = 'melão'"
   ]
  },
  {
   "cell_type": "code",
   "execution_count": 12,
   "id": "eec3f27d",
   "metadata": {},
   "outputs": [
    {
     "data": {
      "text/plain": [
       "['ovos', 'banana', 'melão', 'maçã']"
      ]
     },
     "execution_count": 12,
     "metadata": {},
     "output_type": "execute_result"
    }
   ],
   "source": [
    "lista_b"
   ]
  },
  {
   "cell_type": "code",
   "execution_count": 13,
   "id": "6d282a70",
   "metadata": {},
   "outputs": [],
   "source": [
    "del lista_b[3]"
   ]
  },
  {
   "cell_type": "code",
   "execution_count": 14,
   "id": "71bd2b53",
   "metadata": {},
   "outputs": [
    {
     "data": {
      "text/plain": [
       "['ovos', 'banana', 'melão']"
      ]
     },
     "execution_count": 14,
     "metadata": {},
     "output_type": "execute_result"
    }
   ],
   "source": [
    "lista_b"
   ]
  },
  {
   "cell_type": "code",
   "execution_count": 15,
   "id": "10f5fd8c",
   "metadata": {},
   "outputs": [],
   "source": [
    "#Caso execute agora irá trazer uma mensagem de erro, pois não existe indice 3 na lista\n",
    "#del lista_b[3]"
   ]
  },
  {
   "cell_type": "markdown",
   "id": "d4ee17ae",
   "metadata": {},
   "source": [
    "### Listas de Listas (Listas aninhadas)"
   ]
  },
  {
   "cell_type": "code",
   "execution_count": 16,
   "id": "76550487",
   "metadata": {},
   "outputs": [],
   "source": [
    "listas = [[1,2,3],[10,20,30],[100,200,300]]"
   ]
  },
  {
   "cell_type": "code",
   "execution_count": 17,
   "id": "a0a54b0e",
   "metadata": {},
   "outputs": [
    {
     "data": {
      "text/plain": [
       "[[1, 2, 3], [10, 20, 30], [100, 200, 300]]"
      ]
     },
     "execution_count": 17,
     "metadata": {},
     "output_type": "execute_result"
    }
   ],
   "source": [
    "listas"
   ]
  },
  {
   "cell_type": "code",
   "execution_count": 18,
   "id": "d2cce7a0",
   "metadata": {},
   "outputs": [
    {
     "data": {
      "text/plain": [
       "[1, 2, 3]"
      ]
     },
     "execution_count": 18,
     "metadata": {},
     "output_type": "execute_result"
    }
   ],
   "source": [
    "#Mostrar a 1ªlista\n",
    "listas[0]"
   ]
  },
  {
   "cell_type": "code",
   "execution_count": 19,
   "id": "825cb9a6",
   "metadata": {},
   "outputs": [
    {
     "data": {
      "text/plain": [
       "1"
      ]
     },
     "execution_count": 19,
     "metadata": {},
     "output_type": "execute_result"
    }
   ],
   "source": [
    "#Indice 0 da lista 0\n",
    "listas[0][0]"
   ]
  },
  {
   "cell_type": "code",
   "execution_count": 21,
   "id": "2644942f",
   "metadata": {},
   "outputs": [],
   "source": [
    "#atribuindo valores a uma variavel\n",
    "a = listas[0][0]"
   ]
  },
  {
   "cell_type": "code",
   "execution_count": 22,
   "id": "ea68bdbf",
   "metadata": {},
   "outputs": [
    {
     "data": {
      "text/plain": [
       "1"
      ]
     },
     "execution_count": 22,
     "metadata": {},
     "output_type": "execute_result"
    }
   ],
   "source": [
    "a"
   ]
  },
  {
   "cell_type": "code",
   "execution_count": 23,
   "id": "0f7c7c8f",
   "metadata": {},
   "outputs": [],
   "source": [
    "b = listas[1][1]"
   ]
  },
  {
   "cell_type": "code",
   "execution_count": 24,
   "id": "6813667b",
   "metadata": {},
   "outputs": [
    {
     "data": {
      "text/plain": [
       "20"
      ]
     },
     "execution_count": 24,
     "metadata": {},
     "output_type": "execute_result"
    }
   ],
   "source": [
    "b"
   ]
  },
  {
   "cell_type": "code",
   "execution_count": 26,
   "id": "8c98c5bc",
   "metadata": {},
   "outputs": [],
   "source": [
    "c = listas[2][0] + 10"
   ]
  },
  {
   "cell_type": "code",
   "execution_count": 27,
   "id": "4e965269",
   "metadata": {},
   "outputs": [
    {
     "data": {
      "text/plain": [
       "110"
      ]
     },
     "execution_count": 27,
     "metadata": {},
     "output_type": "execute_result"
    }
   ],
   "source": [
    "c"
   ]
  },
  {
   "cell_type": "code",
   "execution_count": 28,
   "id": "bc6e7906",
   "metadata": {},
   "outputs": [],
   "source": [
    "d = b * listas[0][2]"
   ]
  },
  {
   "cell_type": "code",
   "execution_count": 29,
   "id": "9863870c",
   "metadata": {},
   "outputs": [
    {
     "data": {
      "text/plain": [
       "60"
      ]
     },
     "execution_count": 29,
     "metadata": {},
     "output_type": "execute_result"
    }
   ],
   "source": [
    "d"
   ]
  },
  {
   "cell_type": "markdown",
   "id": "7dcc6897",
   "metadata": {},
   "source": [
    "### Concatenando listas"
   ]
  },
  {
   "cell_type": "code",
   "execution_count": 30,
   "id": "1931b1b4",
   "metadata": {},
   "outputs": [],
   "source": [
    "lista_s1 = [1,2,3]"
   ]
  },
  {
   "cell_type": "code",
   "execution_count": 31,
   "id": "26349208",
   "metadata": {},
   "outputs": [],
   "source": [
    "lista_s2 = [100,200,300]"
   ]
  },
  {
   "cell_type": "code",
   "execution_count": 32,
   "id": "ade7f65c",
   "metadata": {},
   "outputs": [],
   "source": [
    "lista_total = lista_s1 + lista_s2"
   ]
  },
  {
   "cell_type": "code",
   "execution_count": 33,
   "id": "5760f440",
   "metadata": {},
   "outputs": [
    {
     "data": {
      "text/plain": [
       "[1, 2, 3, 100, 200, 300]"
      ]
     },
     "execution_count": 33,
     "metadata": {},
     "output_type": "execute_result"
    }
   ],
   "source": [
    "#Concetenando listas\n",
    "lista_total"
   ]
  },
  {
   "cell_type": "markdown",
   "id": "5ff350ea",
   "metadata": {},
   "source": [
    "### Operador IN"
   ]
  },
  {
   "cell_type": "code",
   "execution_count": 34,
   "id": "5c7ff80c",
   "metadata": {},
   "outputs": [],
   "source": [
    "lista_teste = [100, -5, 2, 8]"
   ]
  },
  {
   "cell_type": "code",
   "execution_count": 35,
   "id": "ad79ad7f",
   "metadata": {},
   "outputs": [
    {
     "name": "stdout",
     "output_type": "stream",
     "text": [
      "False\n"
     ]
    }
   ],
   "source": [
    "#Verificando se exsite o valor na lista\n",
    "print(10 in lista_teste)"
   ]
  },
  {
   "cell_type": "code",
   "execution_count": 36,
   "id": "574bd78a",
   "metadata": {},
   "outputs": [
    {
     "data": {
      "text/plain": [
       "False"
      ]
     },
     "execution_count": 36,
     "metadata": {},
     "output_type": "execute_result"
    }
   ],
   "source": [
    "10 in lista_teste"
   ]
  },
  {
   "cell_type": "code",
   "execution_count": 37,
   "id": "99be0f3a",
   "metadata": {},
   "outputs": [
    {
     "data": {
      "text/plain": [
       "True"
      ]
     },
     "execution_count": 37,
     "metadata": {},
     "output_type": "execute_result"
    }
   ],
   "source": [
    "100 in lista_teste"
   ]
  },
  {
   "cell_type": "markdown",
   "id": "da77a11c",
   "metadata": {},
   "source": [
    "### Funções Built-in"
   ]
  },
  {
   "cell_type": "code",
   "execution_count": 38,
   "id": "e89d8319",
   "metadata": {},
   "outputs": [
    {
     "data": {
      "text/plain": [
       "4"
      ]
     },
     "execution_count": 38,
     "metadata": {},
     "output_type": "execute_result"
    }
   ],
   "source": [
    "#Retorna com a quantidade de itens da lista\n",
    "len(lista_teste)"
   ]
  },
  {
   "cell_type": "code",
   "execution_count": 39,
   "id": "26abc697",
   "metadata": {},
   "outputs": [
    {
     "data": {
      "text/plain": [
       "100"
      ]
     },
     "execution_count": 39,
     "metadata": {},
     "output_type": "execute_result"
    }
   ],
   "source": [
    "#Retorna com o valor máximo que existe na lista\n",
    "max(lista_teste)"
   ]
  },
  {
   "cell_type": "code",
   "execution_count": 40,
   "id": "53d45de5",
   "metadata": {},
   "outputs": [
    {
     "data": {
      "text/plain": [
       "-5"
      ]
     },
     "execution_count": 40,
     "metadata": {},
     "output_type": "execute_result"
    }
   ],
   "source": [
    "#Retorna com o valor mínimo que existe na lista\n",
    "min(lista_teste)"
   ]
  },
  {
   "cell_type": "code",
   "execution_count": 41,
   "id": "8e1b8766",
   "metadata": {},
   "outputs": [],
   "source": [
    "listamercado = ['carne','leite','ovo','arroz']"
   ]
  },
  {
   "cell_type": "code",
   "execution_count": 42,
   "id": "9417ad0d",
   "metadata": {},
   "outputs": [],
   "source": [
    "#Adicionando item na lista\n",
    "listamercado.append('feijão')"
   ]
  },
  {
   "cell_type": "code",
   "execution_count": 43,
   "id": "b3656555",
   "metadata": {},
   "outputs": [
    {
     "data": {
      "text/plain": [
       "['carne', 'leite', 'ovo', 'arroz', 'feijão']"
      ]
     },
     "execution_count": 43,
     "metadata": {},
     "output_type": "execute_result"
    }
   ],
   "source": [
    "listamercado"
   ]
  },
  {
   "cell_type": "code",
   "execution_count": 44,
   "id": "cac87fd6",
   "metadata": {},
   "outputs": [],
   "source": [
    "listamercado.append('feijão')"
   ]
  },
  {
   "cell_type": "code",
   "execution_count": 45,
   "id": "eb39cf71",
   "metadata": {},
   "outputs": [
    {
     "data": {
      "text/plain": [
       "['carne', 'leite', 'ovo', 'arroz', 'feijão', 'feijão']"
      ]
     },
     "execution_count": 45,
     "metadata": {},
     "output_type": "execute_result"
    }
   ],
   "source": [
    "listamercado"
   ]
  },
  {
   "cell_type": "code",
   "execution_count": 47,
   "id": "af183018",
   "metadata": {},
   "outputs": [
    {
     "data": {
      "text/plain": [
       "2"
      ]
     },
     "execution_count": 47,
     "metadata": {},
     "output_type": "execute_result"
    }
   ],
   "source": [
    "listamercado.count('feijão')"
   ]
  },
  {
   "cell_type": "code",
   "execution_count": 1,
   "id": "b537df50",
   "metadata": {},
   "outputs": [],
   "source": [
    "#Criando uma lista vazia\n",
    "a = []"
   ]
  },
  {
   "cell_type": "code",
   "execution_count": 2,
   "id": "cc609a6c",
   "metadata": {},
   "outputs": [
    {
     "data": {
      "text/plain": [
       "[]"
      ]
     },
     "execution_count": 2,
     "metadata": {},
     "output_type": "execute_result"
    }
   ],
   "source": [
    "a"
   ]
  },
  {
   "cell_type": "code",
   "execution_count": 3,
   "id": "d613b722",
   "metadata": {},
   "outputs": [
    {
     "data": {
      "text/plain": [
       "list"
      ]
     },
     "execution_count": 3,
     "metadata": {},
     "output_type": "execute_result"
    }
   ],
   "source": [
    "type(a)"
   ]
  },
  {
   "cell_type": "code",
   "execution_count": 4,
   "id": "5a7231b8",
   "metadata": {},
   "outputs": [],
   "source": [
    "a.append(10)"
   ]
  },
  {
   "cell_type": "code",
   "execution_count": 5,
   "id": "73444a6a",
   "metadata": {},
   "outputs": [],
   "source": [
    "a.append(100)"
   ]
  },
  {
   "cell_type": "code",
   "execution_count": 6,
   "id": "7bf3b12d",
   "metadata": {},
   "outputs": [
    {
     "data": {
      "text/plain": [
       "[10, 100]"
      ]
     },
     "execution_count": 6,
     "metadata": {},
     "output_type": "execute_result"
    }
   ],
   "source": [
    "a"
   ]
  },
  {
   "cell_type": "code",
   "execution_count": 7,
   "id": "4734fecb",
   "metadata": {},
   "outputs": [],
   "source": [
    "old_list = [2,5,10,12,15]"
   ]
  },
  {
   "cell_type": "code",
   "execution_count": 8,
   "id": "ff86ce74",
   "metadata": {},
   "outputs": [],
   "source": [
    "new_list = []"
   ]
  },
  {
   "cell_type": "code",
   "execution_count": 10,
   "id": "a8db3fc1",
   "metadata": {},
   "outputs": [],
   "source": [
    "#Colocando os mesmo dados de uma lista para outra usando um FOR\n",
    "for item in old_list:\n",
    "    new_list.append(item)"
   ]
  },
  {
   "cell_type": "code",
   "execution_count": 11,
   "id": "5d9aeaf2",
   "metadata": {},
   "outputs": [
    {
     "data": {
      "text/plain": [
       "[2, 5, 10, 12, 15]"
      ]
     },
     "execution_count": 11,
     "metadata": {},
     "output_type": "execute_result"
    }
   ],
   "source": [
    "new_list"
   ]
  },
  {
   "cell_type": "code",
   "execution_count": 12,
   "id": "390fde9a",
   "metadata": {},
   "outputs": [],
   "source": [
    "lista_1 = [1,2,3]"
   ]
  },
  {
   "cell_type": "code",
   "execution_count": 13,
   "id": "02acec04",
   "metadata": {},
   "outputs": [],
   "source": [
    "lista_2 = [4,5,6]"
   ]
  },
  {
   "cell_type": "code",
   "execution_count": 14,
   "id": "2a70d43b",
   "metadata": {},
   "outputs": [],
   "source": [
    "lista_1.append(lista_2)"
   ]
  },
  {
   "cell_type": "code",
   "execution_count": 15,
   "id": "7fa20194",
   "metadata": {},
   "outputs": [
    {
     "data": {
      "text/plain": [
       "[1, 2, 3, [4, 5, 6]]"
      ]
     },
     "execution_count": 15,
     "metadata": {},
     "output_type": "execute_result"
    }
   ],
   "source": [
    "lista_1"
   ]
  },
  {
   "cell_type": "code",
   "execution_count": 16,
   "id": "ecd047d3",
   "metadata": {},
   "outputs": [],
   "source": [
    "lista_3 = [7,8,9]"
   ]
  },
  {
   "cell_type": "code",
   "execution_count": 17,
   "id": "c5eaeb40",
   "metadata": {},
   "outputs": [],
   "source": [
    "#Usado para extender os elementos de uma lista em uma outra\n",
    "lista_2.extend(lista_3)"
   ]
  },
  {
   "cell_type": "code",
   "execution_count": 19,
   "id": "b5557396",
   "metadata": {},
   "outputs": [
    {
     "data": {
      "text/plain": [
       "[4, 5, 6, 7, 8, 9]"
      ]
     },
     "execution_count": 19,
     "metadata": {},
     "output_type": "execute_result"
    }
   ],
   "source": [
    "lista_2"
   ]
  },
  {
   "cell_type": "code",
   "execution_count": 20,
   "id": "e109e1de",
   "metadata": {},
   "outputs": [],
   "source": [
    "#Consigo dizer qual o indice que o valor será inserido\n",
    "lista_2.insert(0,3)"
   ]
  },
  {
   "cell_type": "code",
   "execution_count": 21,
   "id": "6d32c191",
   "metadata": {},
   "outputs": [
    {
     "data": {
      "text/plain": [
       "[3, 4, 5, 6, 7, 8, 9]"
      ]
     },
     "execution_count": 21,
     "metadata": {},
     "output_type": "execute_result"
    }
   ],
   "source": [
    "lista_2"
   ]
  },
  {
   "cell_type": "code",
   "execution_count": 22,
   "id": "7b94963d",
   "metadata": {},
   "outputs": [],
   "source": [
    "#Reverte a lista\n",
    "new_list.reverse()"
   ]
  },
  {
   "cell_type": "code",
   "execution_count": 23,
   "id": "6237ab4b",
   "metadata": {},
   "outputs": [
    {
     "data": {
      "text/plain": [
       "[15, 12, 10, 5, 2]"
      ]
     },
     "execution_count": 23,
     "metadata": {},
     "output_type": "execute_result"
    }
   ],
   "source": [
    "new_list"
   ]
  },
  {
   "cell_type": "code",
   "execution_count": 24,
   "id": "f4f58b2c",
   "metadata": {},
   "outputs": [],
   "source": [
    "#ordena do menor para o maior\n",
    "new_list.sort()"
   ]
  },
  {
   "cell_type": "code",
   "execution_count": 25,
   "id": "ec2d2231",
   "metadata": {},
   "outputs": [
    {
     "data": {
      "text/plain": [
       "[2, 5, 10, 12, 15]"
      ]
     },
     "execution_count": 25,
     "metadata": {},
     "output_type": "execute_result"
    }
   ],
   "source": [
    "new_list"
   ]
  },
  {
   "cell_type": "markdown",
   "id": "79cc3d54",
   "metadata": {},
   "source": [
    "## Exercícios"
   ]
  },
  {
   "cell_type": "code",
   "execution_count": 31,
   "id": "6d7fd3fd",
   "metadata": {},
   "outputs": [
    {
     "name": "stdout",
     "output_type": "stream",
     "text": [
      "Digite o 1º valor: 4\n",
      "Digite o 2º valor: 5\n",
      "Digite o 3º valor: 6\n",
      "Digite o 4º valor: 7\n",
      "Digite o 5º valor: 8\n",
      "['4', '5', '6', '7', '8']\n"
     ]
    }
   ],
   "source": [
    "a = []\n",
    "i = 1\n",
    "while i<= 5:\n",
    "    x = input('Digite o {}º valor: '.format(i))\n",
    "    a.append(x)\n",
    "    i+=1\n",
    "print(a)"
   ]
  },
  {
   "cell_type": "code",
   "execution_count": 47,
   "id": "ab20191d",
   "metadata": {},
   "outputs": [
    {
     "name": "stdout",
     "output_type": "stream",
     "text": [
      "Digite o 1º valor: 10\n",
      "Digite o 2º valor: 10\n",
      "Digite o 3º valor: 10\n",
      "Digite o 4º valor: 10\n",
      "1ª nota: 10\n",
      "2ª nota: 10\n",
      "3ª nota: 10\n",
      "4ª nota: 10\n",
      "10.0\n"
     ]
    }
   ],
   "source": [
    "#Faça um Programa que leia 4 notas, mostre as notas e a média na tela.\n",
    "b = []\n",
    "i = 1\n",
    "t = 0\n",
    "x = 0\n",
    "while i <= 4:\n",
    "    x = int(input('Digite o {}º valor: '.format(i)))\n",
    "    t+=x\n",
    "    b.append(x)\n",
    "    i+=1\n",
    "i = 1\n",
    "while i <= 4:\n",
    "    print('{}ª nota: {}'.format(i,b[i-1]))\n",
    "    i+=1\n",
    "print(t/4)"
   ]
  },
  {
   "cell_type": "code",
   "execution_count": null,
   "id": "16cae3d3",
   "metadata": {},
   "outputs": [],
   "source": []
  }
 ],
 "metadata": {
  "kernelspec": {
   "display_name": "Python 3 (ipykernel)",
   "language": "python",
   "name": "python3"
  },
  "language_info": {
   "codemirror_mode": {
    "name": "ipython",
    "version": 3
   },
   "file_extension": ".py",
   "mimetype": "text/x-python",
   "name": "python",
   "nbconvert_exporter": "python",
   "pygments_lexer": "ipython3",
   "version": "3.9.7"
  }
 },
 "nbformat": 4,
 "nbformat_minor": 5
}
